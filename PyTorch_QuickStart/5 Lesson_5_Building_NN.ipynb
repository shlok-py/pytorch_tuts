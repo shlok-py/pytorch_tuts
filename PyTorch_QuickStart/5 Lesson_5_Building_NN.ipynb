{
  "nbformat": 4,
  "nbformat_minor": 0,
  "metadata": {
    "colab": {
      "provenance": [],
      "authorship_tag": "ABX9TyOFCBZaKgJpLJs3NcFIzm//",
      "include_colab_link": true
    },
    "kernelspec": {
      "name": "python3",
      "display_name": "Python 3"
    },
    "language_info": {
      "name": "python"
    }
  },
  "cells": [
    {
      "cell_type": "markdown",
      "metadata": {
        "id": "view-in-github",
        "colab_type": "text"
      },
      "source": [
        "<a href=\"https://colab.research.google.com/github/shlok-py/Pytorch_Tutorial/blob/main/Lesson_5_Building_NN.ipynb\" target=\"_parent\"><img src=\"https://colab.research.google.com/assets/colab-badge.svg\" alt=\"Open In Colab\"/></a>"
      ]
    },
    {
      "cell_type": "markdown",
      "source": [
        "# Build the Neural Network\n",
        "Neural networks comprise of layers/modules that perform operations on data. The torch.nn namespace provides all the building blocks you need to build your own neural network. Every module in PyTorch subclasses the nn.Module. A neural network is a module itself that consists of other modules (layers). This nested structure allows for building and managing complex architectures easily.\n",
        "\n",
        "In the following sections, we’ll build a neural network to classify images in the FashionMNIST dataset."
      ],
      "metadata": {
        "id": "nB_fLOV8EQnU"
      }
    },
    {
      "cell_type": "code",
      "source": [
        "import os\n",
        "import torch\n",
        "from torch import nn\n",
        "from torchvision import datasets\n",
        "from torch.utils.data import DataLoader\n",
        "from torchvision import datasets, transforms"
      ],
      "metadata": {
        "id": "0Fvtpl3LEXXG"
      },
      "execution_count": 2,
      "outputs": []
    },
    {
      "cell_type": "markdown",
      "source": [
        "## Get Device for Training"
      ],
      "metadata": {
        "id": "GXgBo93KF59N"
      }
    },
    {
      "cell_type": "code",
      "source": [
        "device = \"cuda\" if torch.cuda.is_available() else \"mps\" if torch.backends.mps.is_available() else \"cpu\"\n",
        "print(f\"On {device} device\" )"
      ],
      "metadata": {
        "colab": {
          "base_uri": "https://localhost:8080/"
        },
        "id": "ZUrF6yduF6pj",
        "outputId": "2c7ef2fd-8c7f-4616-81fa-c0a056eeeb76"
      },
      "execution_count": 3,
      "outputs": [
        {
          "output_type": "stream",
          "name": "stdout",
          "text": [
            "On cpu device\n"
          ]
        }
      ]
    },
    {
      "cell_type": "markdown",
      "source": [
        "## Define Class"
      ],
      "metadata": {
        "id": "2IVjz2zwGea9"
      }
    },
    {
      "cell_type": "code",
      "source": [
        "class NeuralNetwork(nn.Module):\n",
        "    def __init__(self):\n",
        "        super().__init__()\n",
        "        self.flatten = nn.Flatten()\n",
        "        self.ReLU_stack = nn.Sequential(\n",
        "            nn.Linear(28*28, 512),\n",
        "            nn.ReLU(),\n",
        "            nn.Linear(512,512),\n",
        "            nn.ReLU(),\n",
        "            nn.Linear(512, 10)\n",
        "        )\n",
        "    def forward(self, x):\n",
        "        x = self.flatten(x)\n",
        "        logits = self.ReLU_stack(x)\n",
        "        return logits"
      ],
      "metadata": {
        "id": "6TWfzQZHGPcv"
      },
      "execution_count": 8,
      "outputs": []
    },
    {
      "cell_type": "markdown",
      "source": [
        "We create an instance of NeuralNetwork, and move it to the device, and print its structure."
      ],
      "metadata": {
        "id": "EUz9nQfCZEJw"
      }
    },
    {
      "cell_type": "code",
      "source": [
        "model = NeuralNetwork().to(device)\n",
        "print(model)"
      ],
      "metadata": {
        "colab": {
          "base_uri": "https://localhost:8080/"
        },
        "id": "FS1VGDqPZBYn",
        "outputId": "f6a0c3c7-63d1-4e45-8d48-eca99f739ff2"
      },
      "execution_count": 9,
      "outputs": [
        {
          "output_type": "stream",
          "name": "stdout",
          "text": [
            "NeuralNetwork(\n",
            "  (flatten): Flatten(start_dim=1, end_dim=-1)\n",
            "  (ReLU_stack): Sequential(\n",
            "    (0): Linear(in_features=784, out_features=512, bias=True)\n",
            "    (1): ReLU()\n",
            "    (2): Linear(in_features=512, out_features=512, bias=True)\n",
            "    (3): ReLU()\n",
            "    (4): Linear(in_features=512, out_features=10, bias=True)\n",
            "  )\n",
            ")\n"
          ]
        }
      ]
    },
    {
      "cell_type": "markdown",
      "source": [
        "To use the **model**, we pass it the input data. This executes the model’s forward, along with some background operations. Do not call `model.forward()` directly!\n",
        "\n",
        "Calling the model on the input returns a 2-dimensional tensor with `dim=0` corresponding to each output of 10 raw predicted values for each class, and dim=1 corresponding to the individual values of each output. We get the prediction probabilities by passing it through an instance of the `nn.Softmax` module."
      ],
      "metadata": {
        "id": "X1rxfXDqZcKK"
      }
    },
    {
      "cell_type": "code",
      "source": [
        "X = torch.rand(1,28,28, device = device)\n",
        "logits = model(X)\n",
        "pred_probab = nn.Softmax(dim=1)(logits)\n",
        "y_pred = pred_probab.argmax(1)\n",
        "print(y_pred)"
      ],
      "metadata": {
        "colab": {
          "base_uri": "https://localhost:8080/"
        },
        "id": "qzUPM4obZMIu",
        "outputId": "c752d60b-73d8-4b78-cd63-cf3792f96486"
      },
      "execution_count": 22,
      "outputs": [
        {
          "output_type": "stream",
          "name": "stdout",
          "text": [
            "tensor([7])\n"
          ]
        }
      ]
    },
    {
      "cell_type": "markdown",
      "source": [
        "## Breaking Down the neural Network Layers"
      ],
      "metadata": {
        "id": "FA6PQb94dmWk"
      }
    },
    {
      "cell_type": "code",
      "source": [
        "input_image = torch.rand(3,28,28)\n",
        "print(input_image.size())"
      ],
      "metadata": {
        "colab": {
          "base_uri": "https://localhost:8080/"
        },
        "id": "gGIWRK-ka0h0",
        "outputId": "f1d61307-cd11-4e00-eaa2-28140e280a8a"
      },
      "execution_count": 23,
      "outputs": [
        {
          "output_type": "stream",
          "name": "stdout",
          "text": [
            "torch.Size([3, 28, 28])\n"
          ]
        }
      ]
    },
    {
      "cell_type": "markdown",
      "source": [
        "## nn.Flatten"
      ],
      "metadata": {
        "id": "8lj3sit3eKno"
      }
    },
    {
      "cell_type": "code",
      "source": [
        "flatten = nn.Flatten()\n",
        "flat_image = flatten(input_image)\n",
        "print(flat_image.size())"
      ],
      "metadata": {
        "colab": {
          "base_uri": "https://localhost:8080/"
        },
        "id": "8gcyBkO4dzZM",
        "outputId": "ef070bd1-6cc9-47ba-b347-d32e2866983d"
      },
      "execution_count": 24,
      "outputs": [
        {
          "output_type": "stream",
          "name": "stdout",
          "text": [
            "torch.Size([3, 784])\n"
          ]
        }
      ]
    },
    {
      "cell_type": "markdown",
      "source": [
        "## nn.Linear(in_features, out_features, bias)"
      ],
      "metadata": {
        "id": "8mKsB_OReNVB"
      }
    },
    {
      "cell_type": "code",
      "source": [
        "layer1 = nn.Linear(in_features=28*28, out_features=20)\n",
        "hidden1 = layer1(flat_image)\n",
        "print(hidden1.size())"
      ],
      "metadata": {
        "colab": {
          "base_uri": "https://localhost:8080/"
        },
        "id": "LUQX-CNEd3-H",
        "outputId": "cef6bf95-33c0-48ba-82fb-0c3ae4b83be6"
      },
      "execution_count": 25,
      "outputs": [
        {
          "output_type": "stream",
          "name": "stdout",
          "text": [
            "torch.Size([3, 20])\n"
          ]
        }
      ]
    },
    {
      "cell_type": "markdown",
      "source": [
        "## nn.ReLU()"
      ],
      "metadata": {
        "id": "kZgLUqrcePbS"
      }
    },
    {
      "cell_type": "code",
      "source": [
        "print(f\"Before ReLU: {hidden1}\\n\\n\")\n",
        "hidden1 = nn.ReLU()(hidden1)\n",
        "print(f\"After ReLU: {hidden1}\")"
      ],
      "metadata": {
        "colab": {
          "base_uri": "https://localhost:8080/"
        },
        "id": "U_dwyfjsd6Lw",
        "outputId": "4e9ada58-e75a-423a-eeba-50de1d5e1dab"
      },
      "execution_count": 26,
      "outputs": [
        {
          "output_type": "stream",
          "name": "stdout",
          "text": [
            "Before ReLU: tensor([[-1.6889e-01, -3.1071e-01,  4.6591e-01,  4.0720e-01, -4.9277e-02,\n",
            "         -2.1237e-01,  1.9482e-01,  5.3131e-01, -2.2229e-01, -1.1351e-01,\n",
            "          6.5878e-04, -2.7215e-01,  1.6171e-01,  1.7944e-01,  2.9506e-01,\n",
            "         -4.1467e-01,  3.0076e-01,  7.7092e-01, -2.5137e-01, -5.7761e-01],\n",
            "        [-7.5350e-02, -2.9079e-01,  3.7832e-01,  1.6469e-01, -1.1586e-01,\n",
            "         -3.7963e-01, -5.6812e-03,  2.4956e-01, -2.4359e-01,  1.6988e-02,\n",
            "          5.0036e-02, -1.4275e-01, -1.1193e-01,  7.0507e-01,  5.1315e-01,\n",
            "         -4.1003e-01,  6.8458e-01,  6.5820e-01, -6.8402e-01, -6.5829e-01],\n",
            "        [-1.5275e-01, -1.2506e-01,  3.1928e-01, -1.2465e-02, -3.1777e-01,\n",
            "         -3.8849e-02,  4.7550e-02,  2.3371e-01, -1.2023e-01,  6.9762e-02,\n",
            "         -1.5952e-01, -4.5169e-01,  2.4739e-01,  1.8292e-01,  2.5142e-01,\n",
            "         -6.5961e-02, -1.3982e-01,  8.2140e-01, -2.3661e-01, -9.2508e-01]],\n",
            "       grad_fn=<AddmmBackward0>)\n",
            "\n",
            "\n",
            "After ReLU: tensor([[0.0000e+00, 0.0000e+00, 4.6591e-01, 4.0720e-01, 0.0000e+00, 0.0000e+00,\n",
            "         1.9482e-01, 5.3131e-01, 0.0000e+00, 0.0000e+00, 6.5878e-04, 0.0000e+00,\n",
            "         1.6171e-01, 1.7944e-01, 2.9506e-01, 0.0000e+00, 3.0076e-01, 7.7092e-01,\n",
            "         0.0000e+00, 0.0000e+00],\n",
            "        [0.0000e+00, 0.0000e+00, 3.7832e-01, 1.6469e-01, 0.0000e+00, 0.0000e+00,\n",
            "         0.0000e+00, 2.4956e-01, 0.0000e+00, 1.6988e-02, 5.0036e-02, 0.0000e+00,\n",
            "         0.0000e+00, 7.0507e-01, 5.1315e-01, 0.0000e+00, 6.8458e-01, 6.5820e-01,\n",
            "         0.0000e+00, 0.0000e+00],\n",
            "        [0.0000e+00, 0.0000e+00, 3.1928e-01, 0.0000e+00, 0.0000e+00, 0.0000e+00,\n",
            "         4.7550e-02, 2.3371e-01, 0.0000e+00, 6.9762e-02, 0.0000e+00, 0.0000e+00,\n",
            "         2.4739e-01, 1.8292e-01, 2.5142e-01, 0.0000e+00, 0.0000e+00, 8.2140e-01,\n",
            "         0.0000e+00, 0.0000e+00]], grad_fn=<ReluBackward0>)\n"
          ]
        }
      ]
    },
    {
      "cell_type": "markdown",
      "source": [
        "## nn.Sequential()"
      ],
      "metadata": {
        "id": "qsx_CSuUec4B"
      }
    },
    {
      "cell_type": "code",
      "source": [
        "seq_modules = nn.Sequential(\n",
        "    flatten,\n",
        "    layer1,\n",
        "    nn.ReLU(),\n",
        "    nn.Linear(20, 10)\n",
        ")\n",
        "input_image = torch.rand(3,28,28)\n",
        "logits = seq_modules(input_image)"
      ],
      "metadata": {
        "id": "tS-8evCXd81d"
      },
      "execution_count": 27,
      "outputs": []
    },
    {
      "cell_type": "code",
      "source": [
        "softmax = nn.Softmax(dim=1)\n",
        "pred_probab = softmax(logits)"
      ],
      "metadata": {
        "id": "bU5IEjzed_dt"
      },
      "execution_count": 28,
      "outputs": []
    },
    {
      "cell_type": "code",
      "source": [],
      "metadata": {
        "id": "g8axLcSLeBr1"
      },
      "execution_count": null,
      "outputs": []
    }
  ]
}