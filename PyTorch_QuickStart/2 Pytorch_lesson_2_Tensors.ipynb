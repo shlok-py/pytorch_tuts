{
  "nbformat": 4,
  "nbformat_minor": 0,
  "metadata": {
    "colab": {
      "provenance": [],
      "authorship_tag": "ABX9TyN8VXtpkjEPskzArjdknZso",
      "include_colab_link": true
    },
    "kernelspec": {
      "name": "python3",
      "display_name": "Python 3"
    },
    "language_info": {
      "name": "python"
    }
  },
  "cells": [
    {
      "cell_type": "markdown",
      "metadata": {
        "id": "view-in-github",
        "colab_type": "text"
      },
      "source": [
        "<a href=\"https://colab.research.google.com/github/shlok-py/Pytorch_Tutorial/blob/main/Pytorch_lesson_2_Tensors.ipynb\" target=\"_parent\"><img src=\"https://colab.research.google.com/assets/colab-badge.svg\" alt=\"Open In Colab\"/></a>"
      ]
    },
    {
      "cell_type": "markdown",
      "source": [
        "# Lesson - 2: Tensors"
      ],
      "metadata": {
        "id": "pDVxqJw6es_W"
      }
    },
    {
      "cell_type": "markdown",
      "source": [
        "### Importing torch library"
      ],
      "metadata": {
        "id": "_ay_8THOexB8"
      }
    },
    {
      "cell_type": "code",
      "execution_count": null,
      "metadata": {
        "id": "V3abI_3Cemca"
      },
      "outputs": [],
      "source": [
        "import torch\n",
        "import numpy as np"
      ]
    },
    {
      "cell_type": "markdown",
      "source": [
        "### Tensors\n",
        "Tensors are a specialized data structure that are very similar to arrays and matrices. In PyTorch, we use tensors to encode the inputs and outputs of a model, as well as the model’s parameters.\n",
        "\n",
        "Tensors are similar to NumPy’s ndarrays, except that tensors can run on GPUs or other hardware accelerators. In fact, tensors and NumPy arrays can often share the same underlying memory, eliminating the need to copy data (see Bridge with NumPy). Tensors are also optimized for automatic differentiation (we’ll see more about that later in the Autograd section). If you’re familiar with ndarrays, you’ll be right at home with the Tensor API. If not, follow along!\n",
        "\n",
        "**Copied from** https://pytorch.org/tutorials/beginner/basics/tensorqs_tutorial.html\n",
        "\n",
        "\n",
        "---"
      ],
      "metadata": {
        "id": "a0s53s0Pe7b4"
      }
    },
    {
      "cell_type": "markdown",
      "source": [
        "## Initializing Tensors\n",
        "Method 1: **Directly from data**"
      ],
      "metadata": {
        "id": "DbcCLxp_fwpM"
      }
    },
    {
      "cell_type": "code",
      "source": [
        "data = [[1, 2],[3, 4]]\n",
        "print(\"Data: \",data, end = \"\\n\")\n",
        "x_data = torch.tensor(data)\n",
        "print(\"Converted into Tensor\", x_data)"
      ],
      "metadata": {
        "colab": {
          "base_uri": "https://localhost:8080/"
        },
        "id": "Q830VW7Nevgs",
        "outputId": "e130d3fe-961e-4e4a-9b65-58a6e468a6a0"
      },
      "execution_count": null,
      "outputs": [
        {
          "output_type": "stream",
          "name": "stdout",
          "text": [
            "Data:  [[1, 2], [3, 4]]\n",
            "Converted into Tensor tensor([[1, 2],\n",
            "        [3, 4]])\n"
          ]
        }
      ]
    },
    {
      "cell_type": "markdown",
      "source": [
        "Method 2: **From a NumPy array**"
      ],
      "metadata": {
        "id": "bu6KuP35gGD1"
      }
    },
    {
      "cell_type": "code",
      "source": [
        "nd_array = np.array([[1,2], [3,4]])\n",
        "print(\"The numPy array:\", nd_array, end = \"\\n\")\n",
        "x_np = torch.from_numpy(nd_array)\n",
        "print(\"Converted into Tensor: \", x_np)"
      ],
      "metadata": {
        "colab": {
          "base_uri": "https://localhost:8080/"
        },
        "id": "Tcn4c6D2f0EE",
        "outputId": "150b1a0a-4aa0-4e7e-8191-2d433c31314d"
      },
      "execution_count": null,
      "outputs": [
        {
          "output_type": "stream",
          "name": "stdout",
          "text": [
            "The numPy array: [[1 2]\n",
            " [3 4]]\n",
            "Converted into Tensor:  tensor([[1, 2],\n",
            "        [3, 4]])\n"
          ]
        }
      ]
    },
    {
      "cell_type": "markdown",
      "source": [
        "Method 3: **From another tensor**"
      ],
      "metadata": {
        "id": "7MWxh82rZG74"
      }
    },
    {
      "cell_type": "code",
      "source": [
        "x_ones = torch.ones_like(x_data)\n",
        "print(\"Ones Tensor: \", x_ones, end = \"\\n\")\n",
        "x_rand = torch.rand_like(x_data, dtype = torch.float)\n",
        "print(\"Random tensor: \", x_rand)"
      ],
      "metadata": {
        "id": "jM6q3GyLg_IJ",
        "colab": {
          "base_uri": "https://localhost:8080/"
        },
        "outputId": "22ab73f1-d11f-46ed-9400-f4c8c08b1cdd"
      },
      "execution_count": null,
      "outputs": [
        {
          "output_type": "stream",
          "name": "stdout",
          "text": [
            "Ones Tensor:  tensor([[1, 1],\n",
            "        [1, 1]])\n",
            "Random tensor:  tensor([[0.8728, 0.8023],\n",
            "        [0.5611, 0.4933]])\n"
          ]
        }
      ]
    },
    {
      "cell_type": "markdown",
      "source": [
        "Method 4: **From random or constant values**"
      ],
      "metadata": {
        "id": "WXFHxPQFZ7of"
      }
    },
    {
      "cell_type": "code",
      "source": [
        "shape = (2,3,)\n",
        "rand_tensor = torch.rand(shape)\n",
        "ones_tensor = torch.ones(shape)\n",
        "zeros_tensor = torch.zeros(shape)\n",
        "print(f\"Random Tensor: {rand_tensor}\")\n",
        "print(f\"Ones Tensor: {ones_tensor}\")\n",
        "print(f\"Zeros Tensor: {zeros_tensor}\")"
      ],
      "metadata": {
        "colab": {
          "base_uri": "https://localhost:8080/"
        },
        "id": "ToAMd_V2ZrhA",
        "outputId": "7f7f3ac2-e027-4198-c106-e1c7867e3645"
      },
      "execution_count": null,
      "outputs": [
        {
          "output_type": "stream",
          "name": "stdout",
          "text": [
            "Random Tensor: tensor([[0.7641, 0.3265, 0.2004],\n",
            "        [0.4471, 0.3104, 0.2611]])\n",
            "Ones Tensor: tensor([[1., 1., 1.],\n",
            "        [1., 1., 1.]])\n",
            "Zeros Tensor: tensor([[0., 0., 0.],\n",
            "        [0., 0., 0.]])\n"
          ]
        }
      ]
    },
    {
      "cell_type": "markdown",
      "source": [
        "### Attributes of a tensor\n",
        "\n",
        "Tensor attributes describe their shape, datatype, and the device on which they are stored."
      ],
      "metadata": {
        "id": "OeYgKFk-avpZ"
      }
    },
    {
      "cell_type": "code",
      "source": [
        "tensor = torch.rand(3,4)\n",
        "\n",
        "print(f\"Shape of tensor: {tensor.shape}\")\n",
        "print(f\"Datatype of tensor: {tensor.dtype}\")\n",
        "print(f\"Device where tensor is stored in: {tensor.device}\")"
      ],
      "metadata": {
        "colab": {
          "base_uri": "https://localhost:8080/"
        },
        "id": "cFZhD7gOabt1",
        "outputId": "825e59ef-e298-43b4-ac42-5441609967a9"
      },
      "execution_count": null,
      "outputs": [
        {
          "output_type": "stream",
          "name": "stdout",
          "text": [
            "Shape of tensor: torch.Size([3, 4])\n",
            "Datatype of tensor: torch.float32\n",
            "Device where tensor is stored in: cpu\n"
          ]
        }
      ]
    },
    {
      "cell_type": "markdown",
      "source": [
        "### Operations on Tensor"
      ],
      "metadata": {
        "id": "Z74Y2Js1bIzj"
      }
    },
    {
      "cell_type": "markdown",
      "source": [
        "Over 100 tensor operations, including arithmetic, linear algebra, matrix manipulation (transposing, indexing, slicing), sampling and more are comprehensively described here.\n",
        "\n",
        "Each of these operations can be run on the GPU (at typically higher speeds than on a CPU). If you’re using Colab, allocate a GPU by going to Runtime > Change runtime type > GPU.\n",
        "\n",
        "By default, tensors are created on the CPU. We need to explicitly move tensors to the GPU using .to method (after checking for GPU availability). Keep in mind that copying large tensors across devices can be expensive in terms of time and memory!\n",
        "\n",
        "**Copied from** : https://pytorch.org/tutorials/beginner/basics/tensorqs_tutorial.html"
      ],
      "metadata": {
        "id": "apontngTbOBg"
      }
    },
    {
      "cell_type": "code",
      "source": [
        "#move tensor to GPU is available\n",
        "if torch.cuda.is_available():\n",
        "    tensor = tensor.to(\"cuda\")"
      ],
      "metadata": {
        "id": "KgnmT8EObDmS"
      },
      "execution_count": null,
      "outputs": []
    },
    {
      "cell_type": "markdown",
      "source": [
        "#### ** Standard numpy-like indexing and slicing**"
      ],
      "metadata": {
        "id": "pAIC0QV8butR"
      }
    },
    {
      "cell_type": "code",
      "source": [
        "tensor = torch.ones(4,4)\n",
        "print(f\"first row: {tensor[0]}\")\n",
        "print(f\"First column: {tensor[:,0]}\")\n",
        "print(f\"Last Column: {tensor[..., -1]}\")\n",
        "print(tensor)\n",
        "tensor[:,1] = 0\n",
        "print(tensor)"
      ],
      "metadata": {
        "colab": {
          "base_uri": "https://localhost:8080/"
        },
        "id": "M8lBwrgrbiZz",
        "outputId": "1fb4cbcb-a356-4701-a529-7b5ca4ed9278"
      },
      "execution_count": null,
      "outputs": [
        {
          "output_type": "stream",
          "name": "stdout",
          "text": [
            "first row: tensor([1., 1., 1., 1.])\n",
            "First column: tensor([1., 1., 1., 1.])\n",
            "Last Column: tensor([1., 1., 1., 1.])\n",
            "tensor([[1., 1., 1., 1.],\n",
            "        [1., 1., 1., 1.],\n",
            "        [1., 1., 1., 1.],\n",
            "        [1., 1., 1., 1.]])\n",
            "tensor([[1., 0., 1., 1.],\n",
            "        [1., 0., 1., 1.],\n",
            "        [1., 0., 1., 1.],\n",
            "        [1., 0., 1., 1.]])\n"
          ]
        }
      ]
    },
    {
      "cell_type": "markdown",
      "source": [
        "**Joining tensors:** You can use **torch.cat** to concatenate a sequence of tensors along a given dimension. See also **torch.stack**, another tensor joining option that is subtly different from **torch.cat**."
      ],
      "metadata": {
        "id": "PXll2uhfdGO0"
      }
    },
    {
      "cell_type": "code",
      "source": [
        "t1 = torch.cat([tensor, tensor, tensor], dim = 1)\n",
        "print(t1)"
      ],
      "metadata": {
        "colab": {
          "base_uri": "https://localhost:8080/"
        },
        "id": "jvXaaCLHcaf2",
        "outputId": "9c7f69c8-80f3-416a-ae13-47ae95ab1b90"
      },
      "execution_count": null,
      "outputs": [
        {
          "output_type": "stream",
          "name": "stdout",
          "text": [
            "tensor([[1., 0., 1., 1., 1., 0., 1., 1., 1., 0., 1., 1.],\n",
            "        [1., 0., 1., 1., 1., 0., 1., 1., 1., 0., 1., 1.],\n",
            "        [1., 0., 1., 1., 1., 0., 1., 1., 1., 0., 1., 1.],\n",
            "        [1., 0., 1., 1., 1., 0., 1., 1., 1., 0., 1., 1.]])\n"
          ]
        }
      ]
    },
    {
      "cell_type": "code",
      "source": [
        "# dimenson has the range between [-2,1]\n",
        "t2 = torch.cat([tensor,tensor,tensor], dim = -2)\n",
        "'''\n",
        "dim = 1, concates tensor in the row\n",
        "dim = 0, concates tensor in the column\n",
        "'''\n",
        "print(t2)"
      ],
      "metadata": {
        "colab": {
          "base_uri": "https://localhost:8080/"
        },
        "id": "Pf2st_sYePrH",
        "outputId": "4eccab29-18ba-4e63-e478-6da08f8d23d5"
      },
      "execution_count": null,
      "outputs": [
        {
          "output_type": "stream",
          "name": "stdout",
          "text": [
            "tensor([[1., 0., 1., 1.],\n",
            "        [1., 0., 1., 1.],\n",
            "        [1., 0., 1., 1.],\n",
            "        [1., 0., 1., 1.],\n",
            "        [1., 0., 1., 1.],\n",
            "        [1., 0., 1., 1.],\n",
            "        [1., 0., 1., 1.],\n",
            "        [1., 0., 1., 1.],\n",
            "        [1., 0., 1., 1.],\n",
            "        [1., 0., 1., 1.],\n",
            "        [1., 0., 1., 1.],\n",
            "        [1., 0., 1., 1.]])\n"
          ]
        }
      ]
    },
    {
      "cell_type": "markdown",
      "source": [
        "**Arithmetic Operations**"
      ],
      "metadata": {
        "id": "Tn3blwoTfjC2"
      }
    },
    {
      "cell_type": "code",
      "source": [
        "# @ tensor.T returns transpose of the tensor\n",
        "# The following code does matrix multiplication\n",
        "y1 = tensor @ tensor.T\n",
        "y2 = tensor.matmul(tensor.T)\n",
        "print(y1)\n",
        "print(y2)\n",
        "\n",
        "y3 = torch.rand_like(y1)\n",
        "print(y3)\n",
        "torch.matmul(tensor, tensor.T, out = y3)"
      ],
      "metadata": {
        "colab": {
          "base_uri": "https://localhost:8080/"
        },
        "id": "MQgNV6eHeVtc",
        "outputId": "eb912161-6e9c-4722-ffc0-daeb9a27c78a"
      },
      "execution_count": null,
      "outputs": [
        {
          "output_type": "stream",
          "name": "stdout",
          "text": [
            "tensor([[3., 3., 3., 3.],\n",
            "        [3., 3., 3., 3.],\n",
            "        [3., 3., 3., 3.],\n",
            "        [3., 3., 3., 3.]])\n",
            "tensor([[3., 3., 3., 3.],\n",
            "        [3., 3., 3., 3.],\n",
            "        [3., 3., 3., 3.],\n",
            "        [3., 3., 3., 3.]])\n",
            "tensor([[0.9347, 0.6240, 0.5204, 0.1465],\n",
            "        [0.0305, 0.9809, 0.7714, 0.4695],\n",
            "        [0.7061, 0.8172, 0.4701, 0.8599],\n",
            "        [0.2095, 0.2382, 0.4549, 0.5219]])\n"
          ]
        },
        {
          "output_type": "execute_result",
          "data": {
            "text/plain": [
              "tensor([[3., 3., 3., 3.],\n",
              "        [3., 3., 3., 3.],\n",
              "        [3., 3., 3., 3.],\n",
              "        [3., 3., 3., 3.]])"
            ]
          },
          "metadata": {},
          "execution_count": 25
        }
      ]
    },
    {
      "cell_type": "code",
      "source": [
        "#Elementwise product\n",
        "z1 = tensor * tensor\n",
        "z2 = tensor.mul(tensor)\n",
        "\n",
        "z3 = torch.rand_like(tensor)\n",
        "torch.mul(tensor, tensor, out=z3)"
      ],
      "metadata": {
        "colab": {
          "base_uri": "https://localhost:8080/"
        },
        "id": "dEevTOUigK4D",
        "outputId": "35b31dcf-6ccb-40bb-ebf9-2087e65c7278"
      },
      "execution_count": null,
      "outputs": [
        {
          "output_type": "execute_result",
          "data": {
            "text/plain": [
              "tensor([[1., 0., 1., 1.],\n",
              "        [1., 0., 1., 1.],\n",
              "        [1., 0., 1., 1.],\n",
              "        [1., 0., 1., 1.]])"
            ]
          },
          "metadata": {},
          "execution_count": 26
        }
      ]
    },
    {
      "cell_type": "markdown",
      "source": [
        "#### Single-element tensors If you have a one-element tensor, for example by aggregating all values of a tensor into one value, you can convert it to a Python numerical value using item():"
      ],
      "metadata": {
        "id": "jBjkbwdKhOZk"
      }
    },
    {
      "cell_type": "code",
      "source": [
        "agg = tensor.sum()\n",
        "agg = agg.item()\n",
        "print(agg ,type(agg))"
      ],
      "metadata": {
        "colab": {
          "base_uri": "https://localhost:8080/"
        },
        "id": "KiNjlP8Egkvc",
        "outputId": "8f845577-9c3b-45d6-aa39-6fde5e9d7723"
      },
      "execution_count": null,
      "outputs": [
        {
          "output_type": "stream",
          "name": "stdout",
          "text": [
            "12.0 <class 'float'>\n"
          ]
        }
      ]
    },
    {
      "cell_type": "markdown",
      "source": [],
      "metadata": {
        "id": "kIaNQiiLiu-q"
      }
    },
    {
      "cell_type": "markdown",
      "source": [
        "#### In-place operations Operations that store the result into the operand are called in-place. They are denoted by a _ suffix. For example: x.copy_(y), x.t_(), will change x."
      ],
      "metadata": {
        "id": "fd2tbvwIivTO"
      }
    },
    {
      "cell_type": "code",
      "source": [
        "print(f\"{tensor}\")\n",
        "tensor = tensor.add_(5)\n",
        "print(tensor)"
      ],
      "metadata": {
        "colab": {
          "base_uri": "https://localhost:8080/"
        },
        "id": "jxYomlLQhS6s",
        "outputId": "3eb992cc-1b79-4112-de6c-119ef9648646"
      },
      "execution_count": null,
      "outputs": [
        {
          "output_type": "stream",
          "name": "stdout",
          "text": [
            "tensor([[1., 0., 1., 1.],\n",
            "        [1., 0., 1., 1.],\n",
            "        [1., 0., 1., 1.],\n",
            "        [1., 0., 1., 1.]])\n",
            "tensor([[6., 5., 6., 6.],\n",
            "        [6., 5., 6., 6.],\n",
            "        [6., 5., 6., 6.],\n",
            "        [6., 5., 6., 6.]])\n"
          ]
        }
      ]
    },
    {
      "cell_type": "markdown",
      "source": [
        "### Bridge with NumPy\n",
        "Tensors on the CPU and NumPy arrays can share their underlying memory locations, and changing one will change the other."
      ],
      "metadata": {
        "id": "3WeT4y6NjAgt"
      }
    },
    {
      "cell_type": "markdown",
      "source": [
        "#### Tensor to NumPy Array"
      ],
      "metadata": {
        "id": "OVER18jPjHWH"
      }
    },
    {
      "cell_type": "code",
      "source": [
        "t = torch.ones(5)\n",
        "print(t)\n",
        "n = t.numpy()\n",
        "print(type(n))"
      ],
      "metadata": {
        "colab": {
          "base_uri": "https://localhost:8080/"
        },
        "id": "COLRqDr3i4Cs",
        "outputId": "c2cfb930-c327-420d-c7eb-585eaa3c3112"
      },
      "execution_count": null,
      "outputs": [
        {
          "output_type": "stream",
          "name": "stdout",
          "text": [
            "tensor([1., 1., 1., 1., 1.])\n",
            "<class 'numpy.ndarray'>\n"
          ]
        }
      ]
    },
    {
      "cell_type": "markdown",
      "source": [
        "#### A change in tensor reflect in NumPy array"
      ],
      "metadata": {
        "id": "x8QbkfN3jdVy"
      }
    },
    {
      "cell_type": "code",
      "source": [
        "t.add_(1)\n",
        "print(t)\n",
        "print(n)"
      ],
      "metadata": {
        "colab": {
          "base_uri": "https://localhost:8080/"
        },
        "id": "_4YvwYhBjVau",
        "outputId": "835403b4-4477-407a-c40a-bfc7df13264a"
      },
      "execution_count": null,
      "outputs": [
        {
          "output_type": "stream",
          "name": "stdout",
          "text": [
            "tensor([2., 2., 2., 2., 2.])\n",
            "[2. 2. 2. 2. 2.]\n"
          ]
        }
      ]
    },
    {
      "cell_type": "markdown",
      "source": [
        "#### NumPy to Tensor"
      ],
      "metadata": {
        "id": "iG8eJOkQkH4U"
      }
    },
    {
      "cell_type": "code",
      "source": [
        "n = np.ones(5)\n",
        "print(n)\n",
        "t = torch.from_numpy(n)\n",
        "print(t)"
      ],
      "metadata": {
        "colab": {
          "base_uri": "https://localhost:8080/"
        },
        "id": "qd4WaHumkE00",
        "outputId": "e2e120d2-32db-40e6-890e-25082ae857fa"
      },
      "execution_count": null,
      "outputs": [
        {
          "output_type": "stream",
          "name": "stdout",
          "text": [
            "[1. 1. 1. 1. 1.]\n",
            "tensor([1., 1., 1., 1., 1.], dtype=torch.float64)\n"
          ]
        }
      ]
    },
    {
      "cell_type": "markdown",
      "source": [
        "#### Changes in numpy array reflects in the tensor"
      ],
      "metadata": {
        "id": "FyPShjz_kWmL"
      }
    },
    {
      "cell_type": "code",
      "source": [
        "np.add(n,1, out = n)\n",
        "print(n)\n",
        "print(t)"
      ],
      "metadata": {
        "colab": {
          "base_uri": "https://localhost:8080/"
        },
        "id": "4GOXzj_HkThF",
        "outputId": "cdb249d4-1a01-4f13-c655-f435319f94bb"
      },
      "execution_count": null,
      "outputs": [
        {
          "output_type": "stream",
          "name": "stdout",
          "text": [
            "[3. 3. 3. 3. 3.]\n",
            "tensor([3., 3., 3., 3., 3.], dtype=torch.float64)\n"
          ]
        }
      ]
    }
  ]
}